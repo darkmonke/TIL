{
 "cells": [
  {
   "cell_type": "code",
   "execution_count": 1,
   "id": "dd664bce-c6a7-48f8-bd81-cbc70ef00fe3",
   "metadata": {},
   "outputs": [],
   "source": [
    "# # 함수의 return\n",
    "# 함수가 return을 만나면 해당값을 반환하고 함수를 종료\n",
    "# 만약 return이 없는 경우 None을 자동으로 반환\n",
    "# return은 오직 하나의 객체만 반환한다."
   ]
  },
  {
   "cell_type": "code",
   "execution_count": 13,
   "id": "55c3370b-69d5-404b-a587-dd5ac3932978",
   "metadata": {},
   "outputs": [],
   "source": [
    "def my_max(num1, num2):\n",
    "    if num1 > num2:\n",
    "        print(num1)\n",
    "    elif num1 < num2:\n",
    "        print(num2)\n",
    "    else:\n",
    "        print('같습니다')"
   ]
  },
  {
   "cell_type": "code",
   "execution_count": 14,
   "id": "2c2c5ce7-30cb-4199-a5d3-9470acd46d9c",
   "metadata": {},
   "outputs": [
    {
     "name": "stdout",
     "output_type": "stream",
     "text": [
      "2\n",
      "None\n"
     ]
    }
   ],
   "source": [
    "result = my_max(1, 2)\n",
    "print(result)\n",
    "\n",
    "# 왜 None이 반환되지..?"
   ]
  },
  {
   "cell_type": "markdown",
   "id": "f3cf6470-1247-43e1-8922-f3126222d2c3",
   "metadata": {},
   "source": [
    "# 함수의 인수\n",
    "1. 위치인수: 기본적으로 함수는 위치를 기준으로 인수를 판단\n",
    "```\n",
    "def greet(name, message):\n",
    "    print(f\"{name}, {message}\")\n",
    "\n",
    "greet(\"홍길동\", \"안녕하세요\")  # 출력: 홍길동, 안녕하세요\n",
    "```\n",
    "2. 키워드 인수: 함수를 호출(실행)할 때 내가 원하는 위치에 직접적으로 값을 전달\n",
    "```\n",
    "def greet(name, message):\n",
    "    print(f\"{name}, {message}\")\n",
    "\n",
    "greet(message=\"반갑습니다\", name=\"김철수\")  # 출력: 김철수, 반갑습니다\n",
    "```\n",
    "\n",
    "3. 가변 인자 리스트\n",
    "1) * args(가변 위치 인수): *args는 임의 개수의 위치 인수를 받을 수 있게 해줌. 함수 내부에서는 튜플 형태로 사용\n",
    "```\n",
    "def my_print(*words):\n",
    "    print(words)\n",
    "\n",
    "my_print('my', 'name', 'is', 1, 2, 3, 4)\n",
    "```\n",
    "\n",
    "2) ** kwargs(가변 키워드 인수): **kwargs는 임의 개수의 키워드 인수를 받을 수 있게 해줌. 함수 내부에서는 딕셔너리 형태로 사용\n",
    "```\n",
    "def print_info(**kwargs):\n",
    "    for key, value in kwargs.items():\n",
    "        print(f\"{key}: {value}\")\n",
    "\n",
    "# 여러 키워드 인수 전달\n",
    "print_info(name=\"박지민\", age=25, city=\"서울\")\n",
    "# 출력:\n",
    "# name: 박지민\n",
    "# age: 25\n",
    "# city: 서울\n",
    "```"
   ]
  },
  {
   "cell_type": "code",
   "execution_count": null,
   "id": "96300af3-ead3-42c1-ba80-58ec10911669",
   "metadata": {},
   "outputs": [],
   "source": []
  },
  {
   "cell_type": "code",
   "execution_count": null,
   "id": "9e5e0215-0955-40d4-869d-ee3216949929",
   "metadata": {},
   "outputs": [],
   "source": []
  },
  {
   "cell_type": "code",
   "execution_count": null,
   "id": "9e07b5da-199c-4ab7-9533-496e365cd4d6",
   "metadata": {},
   "outputs": [],
   "source": []
  }
 ],
 "metadata": {
  "kernelspec": {
   "display_name": "Python 3 (ipykernel)",
   "language": "python",
   "name": "python3"
  },
  "language_info": {
   "codemirror_mode": {
    "name": "ipython",
    "version": 3
   },
   "file_extension": ".py",
   "mimetype": "text/x-python",
   "name": "python",
   "nbconvert_exporter": "python",
   "pygments_lexer": "ipython3",
   "version": "3.13.2"
  }
 },
 "nbformat": 4,
 "nbformat_minor": 5
}
