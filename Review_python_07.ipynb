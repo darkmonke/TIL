{
 "cells": [
  {
   "cell_type": "markdown",
   "id": "abff1d44-7ff9-499b-8759-a987fe5bc7e5",
   "metadata": {},
   "source": [
    "# 객체 지향 프로그래밍(OOP)\n",
    "객체 지향 프로그래밍은 프로그램을 '객체(objects)'라는 독립적인 단위로 구성하는 방식. 각 객체는 데이터(속성)와 기능(메소드)을 함께 가지고 있음.\n",
    "\n",
    "- 클래스(class) : 같은 종류의 집단에 속하는 속성과 행동을 정의한 것\n",
    "- 속성(attribute) : 클래스/인스턴스가 가지고 있는 데이터/값\n",
    "- 행동(method) : 클래스/인스턴스가 가지고 있는 함수/기능\n",
    "- 인스턴스(instance) : 클래스를 실제로 메모리상에 할당한 것\n",
    "\n",
    "** 프로그래밍 관점에서 객체는 클래스의 인스턴스. 클래스는 객체의 설계도 또는 템플릿이고, 객체는 그 설계도를 만들어진 실체"
   ]
  },
  {
   "cell_type": "markdown",
   "id": "ab7971ed-4f9f-4438-a554-78fa08d1aa1c",
   "metadata": {},
   "source": [
    "## 파이썬의 클래스 내 메소드에 self 인자가 들어가야 하는 이유\n",
    "\n",
    "self는 인스턴스 자신을 참조하는 변수로 객체의 속성과 메서드에 접근할 수 있도록 함. 파이썬에서는 이 인자를 첫 번째 매개변수로 선언해야 함.\n",
    "\n",
    "- 인스턴스 구분: 같은 클래스의 여러 인스턴스가 있을 때, self는 현재 작업 중인 인스턴스를 식별\n",
    "- self는 self.make와 같이 해당 객체의 속성에 접근할 수 있게 함.\n",
    "- 메소드를 호출할 때 파이썬은 자동으로 인스턴스를 첫 번째 인자로 전달\n",
    "\n",
    "```\n",
    "class Car:\n",
    "    def __init__(self, make, model, color):\n",
    "        # 상태(속성)\n",
    "        self.make = make\n",
    "        self.model = model\n",
    "        self.color = color\n",
    "        self.speed = 0\n",
    "        \n",
    "    # 동작(메서드)\n",
    "    def accelerate(self, amount):\n",
    "        self.speed += amount\n",
    "        \n",
    "    def brake(self, amount):\n",
    "        self.speed = max(0, self.speed - amount)\n",
    "        \n",
    "    def get_info(self):\n",
    "        return f\"{self.color} {self.make} {self.model}, speed: {self.speed}km/h\"\n",
    "\n",
    "# 객체 생성\n",
    "my_car = Car(\"Toyota\", \"Corolla\", \"Red\")\n",
    "```"
   ]
  }
 ],
 "metadata": {
  "kernelspec": {
   "display_name": "Python 3 (ipykernel)",
   "language": "python",
   "name": "python3"
  },
  "language_info": {
   "codemirror_mode": {
    "name": "ipython",
    "version": 3
   },
   "file_extension": ".py",
   "mimetype": "text/x-python",
   "name": "python",
   "nbconvert_exporter": "python",
   "pygments_lexer": "ipython3",
   "version": "3.13.2"
  }
 },
 "nbformat": 4,
 "nbformat_minor": 5
}
