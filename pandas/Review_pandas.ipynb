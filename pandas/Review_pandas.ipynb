{
 "cells": [
  {
   "cell_type": "code",
   "execution_count": 7,
   "id": "c9b42537-b2e2-4361-93b8-ac82fa30a8c5",
   "metadata": {},
   "outputs": [],
   "source": [
    "import numpy as np\n",
    "import pandas as pd\n",
    "import seaborn as sns"
   ]
  },
  {
   "cell_type": "code",
   "execution_count": 8,
   "id": "f7347567-c326-4e61-8e89-bb24f5d46e9b",
   "metadata": {},
   "outputs": [
    {
     "data": {
      "text/html": [
       "<div>\n",
       "<style scoped>\n",
       "    .dataframe tbody tr th:only-of-type {\n",
       "        vertical-align: middle;\n",
       "    }\n",
       "\n",
       "    .dataframe tbody tr th {\n",
       "        vertical-align: top;\n",
       "    }\n",
       "\n",
       "    .dataframe thead th {\n",
       "        text-align: right;\n",
       "    }\n",
       "</style>\n",
       "<table border=\"1\" class=\"dataframe\">\n",
       "  <thead>\n",
       "    <tr style=\"text-align: right;\">\n",
       "      <th></th>\n",
       "      <th>survived</th>\n",
       "      <th>pclass</th>\n",
       "      <th>sex</th>\n",
       "      <th>age</th>\n",
       "      <th>sibsp</th>\n",
       "      <th>parch</th>\n",
       "      <th>fare</th>\n",
       "      <th>embarked</th>\n",
       "      <th>class</th>\n",
       "      <th>who</th>\n",
       "      <th>adult_male</th>\n",
       "      <th>deck</th>\n",
       "      <th>embark_town</th>\n",
       "      <th>alive</th>\n",
       "      <th>alone</th>\n",
       "    </tr>\n",
       "  </thead>\n",
       "  <tbody>\n",
       "    <tr>\n",
       "      <th>0</th>\n",
       "      <td>0</td>\n",
       "      <td>3</td>\n",
       "      <td>male</td>\n",
       "      <td>22.0</td>\n",
       "      <td>1</td>\n",
       "      <td>0</td>\n",
       "      <td>7.2500</td>\n",
       "      <td>S</td>\n",
       "      <td>Third</td>\n",
       "      <td>man</td>\n",
       "      <td>True</td>\n",
       "      <td>NaN</td>\n",
       "      <td>Southampton</td>\n",
       "      <td>no</td>\n",
       "      <td>False</td>\n",
       "    </tr>\n",
       "    <tr>\n",
       "      <th>1</th>\n",
       "      <td>1</td>\n",
       "      <td>1</td>\n",
       "      <td>female</td>\n",
       "      <td>38.0</td>\n",
       "      <td>1</td>\n",
       "      <td>0</td>\n",
       "      <td>71.2833</td>\n",
       "      <td>C</td>\n",
       "      <td>First</td>\n",
       "      <td>woman</td>\n",
       "      <td>False</td>\n",
       "      <td>C</td>\n",
       "      <td>Cherbourg</td>\n",
       "      <td>yes</td>\n",
       "      <td>False</td>\n",
       "    </tr>\n",
       "    <tr>\n",
       "      <th>2</th>\n",
       "      <td>1</td>\n",
       "      <td>3</td>\n",
       "      <td>female</td>\n",
       "      <td>26.0</td>\n",
       "      <td>0</td>\n",
       "      <td>0</td>\n",
       "      <td>7.9250</td>\n",
       "      <td>S</td>\n",
       "      <td>Third</td>\n",
       "      <td>woman</td>\n",
       "      <td>False</td>\n",
       "      <td>NaN</td>\n",
       "      <td>Southampton</td>\n",
       "      <td>yes</td>\n",
       "      <td>True</td>\n",
       "    </tr>\n",
       "    <tr>\n",
       "      <th>3</th>\n",
       "      <td>1</td>\n",
       "      <td>1</td>\n",
       "      <td>female</td>\n",
       "      <td>35.0</td>\n",
       "      <td>1</td>\n",
       "      <td>0</td>\n",
       "      <td>53.1000</td>\n",
       "      <td>S</td>\n",
       "      <td>First</td>\n",
       "      <td>woman</td>\n",
       "      <td>False</td>\n",
       "      <td>C</td>\n",
       "      <td>Southampton</td>\n",
       "      <td>yes</td>\n",
       "      <td>False</td>\n",
       "    </tr>\n",
       "    <tr>\n",
       "      <th>4</th>\n",
       "      <td>0</td>\n",
       "      <td>3</td>\n",
       "      <td>male</td>\n",
       "      <td>35.0</td>\n",
       "      <td>0</td>\n",
       "      <td>0</td>\n",
       "      <td>8.0500</td>\n",
       "      <td>S</td>\n",
       "      <td>Third</td>\n",
       "      <td>man</td>\n",
       "      <td>True</td>\n",
       "      <td>NaN</td>\n",
       "      <td>Southampton</td>\n",
       "      <td>no</td>\n",
       "      <td>True</td>\n",
       "    </tr>\n",
       "  </tbody>\n",
       "</table>\n",
       "</div>"
      ],
      "text/plain": [
       "   survived  pclass     sex   age  sibsp  parch     fare embarked  class  \\\n",
       "0         0       3    male  22.0      1      0   7.2500        S  Third   \n",
       "1         1       1  female  38.0      1      0  71.2833        C  First   \n",
       "2         1       3  female  26.0      0      0   7.9250        S  Third   \n",
       "3         1       1  female  35.0      1      0  53.1000        S  First   \n",
       "4         0       3    male  35.0      0      0   8.0500        S  Third   \n",
       "\n",
       "     who  adult_male deck  embark_town alive  alone  \n",
       "0    man        True  NaN  Southampton    no  False  \n",
       "1  woman       False    C    Cherbourg   yes  False  \n",
       "2  woman       False  NaN  Southampton   yes   True  \n",
       "3  woman       False    C  Southampton   yes  False  \n",
       "4    man        True  NaN  Southampton    no   True  "
      ]
     },
     "execution_count": 8,
     "metadata": {},
     "output_type": "execute_result"
    }
   ],
   "source": [
    "df = sns.load_dataset('titanic')\n",
    "df.head()"
   ]
  },
  {
   "cell_type": "code",
   "execution_count": 9,
   "id": "a34ac73c-3c61-49ab-a926-8acdbe1eab27",
   "metadata": {},
   "outputs": [
    {
     "data": {
      "text/plain": [
       "(891, 15)"
      ]
     },
     "execution_count": 9,
     "metadata": {},
     "output_type": "execute_result"
    }
   ],
   "source": [
    "df.shape"
   ]
  },
  {
   "cell_type": "code",
   "execution_count": 10,
   "id": "d45043b9-e7db-4e81-9acb-5aaa21744c50",
   "metadata": {},
   "outputs": [
    {
     "name": "stdout",
     "output_type": "stream",
     "text": [
      "<class 'pandas.core.frame.DataFrame'>\n",
      "RangeIndex: 891 entries, 0 to 890\n",
      "Data columns (total 15 columns):\n",
      " #   Column       Non-Null Count  Dtype   \n",
      "---  ------       --------------  -----   \n",
      " 0   survived     891 non-null    int64   \n",
      " 1   pclass       891 non-null    int64   \n",
      " 2   sex          891 non-null    object  \n",
      " 3   age          714 non-null    float64 \n",
      " 4   sibsp        891 non-null    int64   \n",
      " 5   parch        891 non-null    int64   \n",
      " 6   fare         891 non-null    float64 \n",
      " 7   embarked     889 non-null    object  \n",
      " 8   class        891 non-null    category\n",
      " 9   who          891 non-null    object  \n",
      " 10  adult_male   891 non-null    bool    \n",
      " 11  deck         203 non-null    category\n",
      " 12  embark_town  889 non-null    object  \n",
      " 13  alive        891 non-null    object  \n",
      " 14  alone        891 non-null    bool    \n",
      "dtypes: bool(2), category(2), float64(2), int64(4), object(5)\n",
      "memory usage: 80.7+ KB\n"
     ]
    }
   ],
   "source": [
    "df.info()"
   ]
  },
  {
   "cell_type": "code",
   "execution_count": 11,
   "id": "6abd3b2d-3740-4233-8e97-c3bbcc497fc0",
   "metadata": {},
   "outputs": [
    {
     "data": {
      "text/plain": [
       "survived         0\n",
       "pclass           0\n",
       "sex              0\n",
       "age            177\n",
       "sibsp            0\n",
       "parch            0\n",
       "fare             0\n",
       "embarked         2\n",
       "class            0\n",
       "who              0\n",
       "adult_male       0\n",
       "deck           688\n",
       "embark_town      2\n",
       "alive            0\n",
       "alone            0\n",
       "dtype: int64"
      ]
     },
     "execution_count": 11,
     "metadata": {},
     "output_type": "execute_result"
    }
   ],
   "source": [
    "df.isnull().sum()"
   ]
  },
  {
   "cell_type": "code",
   "execution_count": 12,
   "id": "bd6f9a50-ee0d-4cea-aff2-d80d2717c6e0",
   "metadata": {},
   "outputs": [
    {
     "data": {
      "text/plain": [
       "survived\n",
       "0    549\n",
       "1    342\n",
       "Name: count, dtype: int64"
      ]
     },
     "execution_count": 12,
     "metadata": {},
     "output_type": "execute_result"
    }
   ],
   "source": [
    "df['survived'].value_counts()"
   ]
  },
  {
   "cell_type": "code",
   "execution_count": 13,
   "id": "e6208fcc-5331-4b17-9790-c2874ab074d2",
   "metadata": {},
   "outputs": [
    {
     "data": {
      "text/plain": [
       "<pandas.core.groupby.generic.DataFrameGroupBy object at 0x000001FAE4B9BB10>"
      ]
     },
     "execution_count": 13,
     "metadata": {},
     "output_type": "execute_result"
    }
   ],
   "source": [
    "df.groupby('embarked')[['survived']]"
   ]
  },
  {
   "cell_type": "code",
   "execution_count": 14,
   "id": "7bb57009-017d-47e2-901a-2c666a2c927a",
   "metadata": {},
   "outputs": [
    {
     "data": {
      "text/plain": [
       "embarked\n",
       "C    0.553571\n",
       "Q    0.389610\n",
       "S    0.336957\n",
       "Name: survived, dtype: float64"
      ]
     },
     "execution_count": 14,
     "metadata": {},
     "output_type": "execute_result"
    }
   ],
   "source": [
    "df.groupby('embarked')['survived'].mean()"
   ]
  },
  {
   "cell_type": "code",
   "execution_count": 40,
   "id": "7ce5ab52-a7d0-4a5f-985a-fe02ad177dda",
   "metadata": {},
   "outputs": [
    {
     "data": {
      "text/html": [
       "<div>\n",
       "<style scoped>\n",
       "    .dataframe tbody tr th:only-of-type {\n",
       "        vertical-align: middle;\n",
       "    }\n",
       "\n",
       "    .dataframe tbody tr th {\n",
       "        vertical-align: top;\n",
       "    }\n",
       "\n",
       "    .dataframe thead tr th {\n",
       "        text-align: left;\n",
       "    }\n",
       "\n",
       "    .dataframe thead tr:last-of-type th {\n",
       "        text-align: right;\n",
       "    }\n",
       "</style>\n",
       "<table border=\"1\" class=\"dataframe\">\n",
       "  <thead>\n",
       "    <tr>\n",
       "      <th></th>\n",
       "      <th colspan=\"2\" halign=\"left\">survived</th>\n",
       "    </tr>\n",
       "    <tr>\n",
       "      <th></th>\n",
       "      <th>sum</th>\n",
       "      <th>mean</th>\n",
       "    </tr>\n",
       "    <tr>\n",
       "      <th>embarked</th>\n",
       "      <th></th>\n",
       "      <th></th>\n",
       "    </tr>\n",
       "  </thead>\n",
       "  <tbody>\n",
       "    <tr>\n",
       "      <th>C</th>\n",
       "      <td>93</td>\n",
       "      <td>0.553571</td>\n",
       "    </tr>\n",
       "    <tr>\n",
       "      <th>Q</th>\n",
       "      <td>30</td>\n",
       "      <td>0.389610</td>\n",
       "    </tr>\n",
       "    <tr>\n",
       "      <th>S</th>\n",
       "      <td>217</td>\n",
       "      <td>0.336957</td>\n",
       "    </tr>\n",
       "  </tbody>\n",
       "</table>\n",
       "</div>"
      ],
      "text/plain": [
       "         survived          \n",
       "              sum      mean\n",
       "embarked                   \n",
       "C              93  0.553571\n",
       "Q              30  0.389610\n",
       "S             217  0.336957"
      ]
     },
     "execution_count": 40,
     "metadata": {},
     "output_type": "execute_result"
    }
   ],
   "source": [
    "df.groupby('embarked')[['survived']].agg(['sum', 'mean'])"
   ]
  },
  {
   "cell_type": "markdown",
   "id": "a4905e5a-7c0b-4eba-ae4e-58a582b4aa4a",
   "metadata": {},
   "source": [
    "### 위 코드에서 'survived'를 대괄호로 두 번 감싸는 이유\n",
    "- 첫 번째 대괄호: 판다스에서 열을 선택할 때 사용\n",
    "- 두 번째 대괄호: 데이터프레임 형태를 유지하기 위해 사용\n",
    "- 만약 df.groupby('embarked')['survived']처럼 하나의 대괄호만 사용하면 Series가 반환\n",
    "- 두 개의 대괄호를 사용하면 DataFrame 형태가 유지되어 다중 집계 함수 적용 가능\n",
    "- 대괄호를 사용하는 것은 \"이 데이터의 특정 부분을 선택하겠다\"라는 의미이며, 단일 열을 선택하면 Series(또는 SeriesGroupBy), 여러 열을 선택하면 DataFrame(또는 DataFrameGroupBy)으로 출력\n",
    "- []는 명령어가 아니라 파이썬의 인덱싱 문법을 판다스가 확장해서 사용하는 방법\n",
    "- 'embarked'를 대괄호로 감싸고, 'survived'에 대괄호를 한 번만 사용해도 동일한 결과 출력"
   ]
  },
  {
   "cell_type": "markdown",
   "id": "3ab61ee8-5521-4875-b402-6ee00ae15439",
   "metadata": {},
   "source": [
    "### ```df.groupby('embarked')[['survived']]```를 실행했을 때 바로 DataFrame이 반환되지 않는 이유\n",
    "\n",
    "groupby() 함수는 바로 계산을 수행하지 않고 그룹화된 데이터에 대해 추가 연산을 적용할 수 있는 중간 객체를 반환. 이것이 'DataFrameGroupBy' 객체\n",
    "이 객체에 어떤 집계 함수(예: mean(), sum(), count() 등)를 적용해야 최종 결과가 계산됨."
   ]
  },
  {
   "cell_type": "code",
   "execution_count": 16,
   "id": "83e6ec69-a15e-4b4e-8488-8d2dbd6d5251",
   "metadata": {},
   "outputs": [
    {
     "data": {
      "text/html": [
       "<div>\n",
       "<style scoped>\n",
       "    .dataframe tbody tr th:only-of-type {\n",
       "        vertical-align: middle;\n",
       "    }\n",
       "\n",
       "    .dataframe tbody tr th {\n",
       "        vertical-align: top;\n",
       "    }\n",
       "\n",
       "    .dataframe thead tr th {\n",
       "        text-align: left;\n",
       "    }\n",
       "\n",
       "    .dataframe thead tr:last-of-type th {\n",
       "        text-align: right;\n",
       "    }\n",
       "</style>\n",
       "<table border=\"1\" class=\"dataframe\">\n",
       "  <thead>\n",
       "    <tr>\n",
       "      <th></th>\n",
       "      <th colspan=\"2\" halign=\"left\">survived</th>\n",
       "    </tr>\n",
       "    <tr>\n",
       "      <th></th>\n",
       "      <th>sum</th>\n",
       "      <th>mean</th>\n",
       "    </tr>\n",
       "    <tr>\n",
       "      <th>sex</th>\n",
       "      <th></th>\n",
       "      <th></th>\n",
       "    </tr>\n",
       "  </thead>\n",
       "  <tbody>\n",
       "    <tr>\n",
       "      <th>female</th>\n",
       "      <td>233</td>\n",
       "      <td>0.742038</td>\n",
       "    </tr>\n",
       "    <tr>\n",
       "      <th>male</th>\n",
       "      <td>109</td>\n",
       "      <td>0.188908</td>\n",
       "    </tr>\n",
       "  </tbody>\n",
       "</table>\n",
       "</div>"
      ],
      "text/plain": [
       "       survived          \n",
       "            sum      mean\n",
       "sex                      \n",
       "female      233  0.742038\n",
       "male        109  0.188908"
      ]
     },
     "execution_count": 16,
     "metadata": {},
     "output_type": "execute_result"
    }
   ],
   "source": [
    "df.groupby('sex')[['survived']].agg(['sum', 'mean'])"
   ]
  },
  {
   "cell_type": "code",
   "execution_count": 17,
   "id": "32ae6c68-d54e-42b3-ae32-8e3f17a29a59",
   "metadata": {},
   "outputs": [
    {
     "data": {
      "text/html": [
       "<div>\n",
       "<style scoped>\n",
       "    .dataframe tbody tr th:only-of-type {\n",
       "        vertical-align: middle;\n",
       "    }\n",
       "\n",
       "    .dataframe tbody tr th {\n",
       "        vertical-align: top;\n",
       "    }\n",
       "\n",
       "    .dataframe thead tr th {\n",
       "        text-align: left;\n",
       "    }\n",
       "\n",
       "    .dataframe thead tr:last-of-type th {\n",
       "        text-align: right;\n",
       "    }\n",
       "</style>\n",
       "<table border=\"1\" class=\"dataframe\">\n",
       "  <thead>\n",
       "    <tr>\n",
       "      <th></th>\n",
       "      <th colspan=\"2\" halign=\"left\">survived</th>\n",
       "    </tr>\n",
       "    <tr>\n",
       "      <th></th>\n",
       "      <th>sum</th>\n",
       "      <th>mean</th>\n",
       "    </tr>\n",
       "    <tr>\n",
       "      <th>alone</th>\n",
       "      <th></th>\n",
       "      <th></th>\n",
       "    </tr>\n",
       "  </thead>\n",
       "  <tbody>\n",
       "    <tr>\n",
       "      <th>False</th>\n",
       "      <td>179</td>\n",
       "      <td>0.505650</td>\n",
       "    </tr>\n",
       "    <tr>\n",
       "      <th>True</th>\n",
       "      <td>163</td>\n",
       "      <td>0.303538</td>\n",
       "    </tr>\n",
       "  </tbody>\n",
       "</table>\n",
       "</div>"
      ],
      "text/plain": [
       "      survived          \n",
       "           sum      mean\n",
       "alone                   \n",
       "False      179  0.505650\n",
       "True       163  0.303538"
      ]
     },
     "execution_count": 17,
     "metadata": {},
     "output_type": "execute_result"
    }
   ],
   "source": [
    "df.groupby('alone')[['survived']].agg(['sum', 'mean'])"
   ]
  },
  {
   "cell_type": "code",
   "execution_count": 18,
   "id": "f6ecb042-db4e-492e-8ab6-b1cfb030dea6",
   "metadata": {},
   "outputs": [
    {
     "data": {
      "text/html": [
       "<div>\n",
       "<style scoped>\n",
       "    .dataframe tbody tr th:only-of-type {\n",
       "        vertical-align: middle;\n",
       "    }\n",
       "\n",
       "    .dataframe tbody tr th {\n",
       "        vertical-align: top;\n",
       "    }\n",
       "\n",
       "    .dataframe thead th {\n",
       "        text-align: right;\n",
       "    }\n",
       "</style>\n",
       "<table border=\"1\" class=\"dataframe\">\n",
       "  <thead>\n",
       "    <tr style=\"text-align: right;\">\n",
       "      <th></th>\n",
       "      <th></th>\n",
       "      <th>sum</th>\n",
       "      <th>mean</th>\n",
       "    </tr>\n",
       "    <tr>\n",
       "      <th>sex</th>\n",
       "      <th>pclass</th>\n",
       "      <th></th>\n",
       "      <th></th>\n",
       "    </tr>\n",
       "  </thead>\n",
       "  <tbody>\n",
       "    <tr>\n",
       "      <th rowspan=\"3\" valign=\"top\">female</th>\n",
       "      <th>1</th>\n",
       "      <td>91</td>\n",
       "      <td>0.968085</td>\n",
       "    </tr>\n",
       "    <tr>\n",
       "      <th>2</th>\n",
       "      <td>70</td>\n",
       "      <td>0.921053</td>\n",
       "    </tr>\n",
       "    <tr>\n",
       "      <th>3</th>\n",
       "      <td>72</td>\n",
       "      <td>0.500000</td>\n",
       "    </tr>\n",
       "    <tr>\n",
       "      <th rowspan=\"3\" valign=\"top\">male</th>\n",
       "      <th>1</th>\n",
       "      <td>45</td>\n",
       "      <td>0.368852</td>\n",
       "    </tr>\n",
       "    <tr>\n",
       "      <th>2</th>\n",
       "      <td>17</td>\n",
       "      <td>0.157407</td>\n",
       "    </tr>\n",
       "    <tr>\n",
       "      <th>3</th>\n",
       "      <td>47</td>\n",
       "      <td>0.135447</td>\n",
       "    </tr>\n",
       "  </tbody>\n",
       "</table>\n",
       "</div>"
      ],
      "text/plain": [
       "               sum      mean\n",
       "sex    pclass               \n",
       "female 1        91  0.968085\n",
       "       2        70  0.921053\n",
       "       3        72  0.500000\n",
       "male   1        45  0.368852\n",
       "       2        17  0.157407\n",
       "       3        47  0.135447"
      ]
     },
     "execution_count": 18,
     "metadata": {},
     "output_type": "execute_result"
    }
   ],
   "source": [
    "df.groupby(['sex', 'pclass'])['survived'].agg(['sum', 'mean'])"
   ]
  },
  {
   "cell_type": "code",
   "execution_count": 19,
   "id": "54dff898-5b59-47cf-9574-39e4f83715a8",
   "metadata": {},
   "outputs": [
    {
     "data": {
      "text/html": [
       "<div>\n",
       "<style scoped>\n",
       "    .dataframe tbody tr th:only-of-type {\n",
       "        vertical-align: middle;\n",
       "    }\n",
       "\n",
       "    .dataframe tbody tr th {\n",
       "        vertical-align: top;\n",
       "    }\n",
       "\n",
       "    .dataframe thead tr th {\n",
       "        text-align: left;\n",
       "    }\n",
       "\n",
       "    .dataframe thead tr:last-of-type th {\n",
       "        text-align: right;\n",
       "    }\n",
       "</style>\n",
       "<table border=\"1\" class=\"dataframe\">\n",
       "  <thead>\n",
       "    <tr>\n",
       "      <th></th>\n",
       "      <th colspan=\"3\" halign=\"left\">sum</th>\n",
       "      <th colspan=\"3\" halign=\"left\">mean</th>\n",
       "    </tr>\n",
       "    <tr>\n",
       "      <th>pclass</th>\n",
       "      <th>1</th>\n",
       "      <th>2</th>\n",
       "      <th>3</th>\n",
       "      <th>1</th>\n",
       "      <th>2</th>\n",
       "      <th>3</th>\n",
       "    </tr>\n",
       "    <tr>\n",
       "      <th>sex</th>\n",
       "      <th></th>\n",
       "      <th></th>\n",
       "      <th></th>\n",
       "      <th></th>\n",
       "      <th></th>\n",
       "      <th></th>\n",
       "    </tr>\n",
       "  </thead>\n",
       "  <tbody>\n",
       "    <tr>\n",
       "      <th>female</th>\n",
       "      <td>91</td>\n",
       "      <td>70</td>\n",
       "      <td>72</td>\n",
       "      <td>0.968085</td>\n",
       "      <td>0.921053</td>\n",
       "      <td>0.500000</td>\n",
       "    </tr>\n",
       "    <tr>\n",
       "      <th>male</th>\n",
       "      <td>45</td>\n",
       "      <td>17</td>\n",
       "      <td>47</td>\n",
       "      <td>0.368852</td>\n",
       "      <td>0.157407</td>\n",
       "      <td>0.135447</td>\n",
       "    </tr>\n",
       "  </tbody>\n",
       "</table>\n",
       "</div>"
      ],
      "text/plain": [
       "       sum              mean                    \n",
       "pclass   1   2   3         1         2         3\n",
       "sex                                             \n",
       "female  91  70  72  0.968085  0.921053  0.500000\n",
       "male    45  17  47  0.368852  0.157407  0.135447"
      ]
     },
     "execution_count": 19,
     "metadata": {},
     "output_type": "execute_result"
    }
   ],
   "source": [
    "df.pivot_table(index='sex', columns='pclass', values='survived', aggfunc=['sum', 'mean'])"
   ]
  },
  {
   "cell_type": "markdown",
   "id": "30d8b0f7-0b21-4fab-a4a0-c4cf565b172a",
   "metadata": {},
   "source": [
    "### pivot table이란?\n",
    "- 정의: 데이터 전처리 방법의 일종. 데이터 열 중에서 두 개의 열을 각각 행 인덱스, 열 인덱스를 사용하여 데이터를 조회하고 펼쳐 놓는다.\n",
    "- 형태\n",
    "  ```\n",
    "  pandas.pivot_table(data\n",
    "                   ## 반드시 알고 있어야 하는 정보\n",
    "                   , index=None  ## 각 행(row)는 무엇으로 정의할지\n",
    "                   , columns=None ## 각 열(column)은 무엇으로 정의할지\n",
    "                   , values=None ## 각 Cell을 어떤 숫자로 계산할지\n",
    "                   , aggfunc='mean', 'sum', 'nunique' 등 ## 계산을 어떻게 할지\n",
    "                   \n",
    "                   ## 더 알고 있으면 좋은 정보\n",
    "                   , fill_value=None\n",
    "                   , margins=False\n",
    "                   , dropna=True\n",
    "                   , margins_name='All'\n",
    "                   , observed=False\n",
    "                   , sort=True\n",
    "                  )\n",
    "  ```"
   ]
  },
  {
   "cell_type": "code",
   "execution_count": 20,
   "id": "8c7286bb-38da-421c-ab9c-f37c7b2f88fd",
   "metadata": {},
   "outputs": [
    {
     "data": {
      "text/html": [
       "<div>\n",
       "<style scoped>\n",
       "    .dataframe tbody tr th:only-of-type {\n",
       "        vertical-align: middle;\n",
       "    }\n",
       "\n",
       "    .dataframe tbody tr th {\n",
       "        vertical-align: top;\n",
       "    }\n",
       "\n",
       "    .dataframe thead tr th {\n",
       "        text-align: left;\n",
       "    }\n",
       "\n",
       "    .dataframe thead tr:last-of-type th {\n",
       "        text-align: right;\n",
       "    }\n",
       "</style>\n",
       "<table border=\"1\" class=\"dataframe\">\n",
       "  <thead>\n",
       "    <tr>\n",
       "      <th></th>\n",
       "      <th></th>\n",
       "      <th colspan=\"2\" halign=\"left\">survived</th>\n",
       "    </tr>\n",
       "    <tr>\n",
       "      <th></th>\n",
       "      <th></th>\n",
       "      <th>sum</th>\n",
       "      <th>mean</th>\n",
       "    </tr>\n",
       "    <tr>\n",
       "      <th>alone</th>\n",
       "      <th>sex</th>\n",
       "      <th></th>\n",
       "      <th></th>\n",
       "    </tr>\n",
       "  </thead>\n",
       "  <tbody>\n",
       "    <tr>\n",
       "      <th rowspan=\"2\" valign=\"top\">False</th>\n",
       "      <th>female</th>\n",
       "      <td>134</td>\n",
       "      <td>0.712766</td>\n",
       "    </tr>\n",
       "    <tr>\n",
       "      <th>male</th>\n",
       "      <td>45</td>\n",
       "      <td>0.271084</td>\n",
       "    </tr>\n",
       "    <tr>\n",
       "      <th rowspan=\"2\" valign=\"top\">True</th>\n",
       "      <th>female</th>\n",
       "      <td>99</td>\n",
       "      <td>0.785714</td>\n",
       "    </tr>\n",
       "    <tr>\n",
       "      <th>male</th>\n",
       "      <td>64</td>\n",
       "      <td>0.155718</td>\n",
       "    </tr>\n",
       "  </tbody>\n",
       "</table>\n",
       "</div>"
      ],
      "text/plain": [
       "             survived          \n",
       "                  sum      mean\n",
       "alone sex                      \n",
       "False female      134  0.712766\n",
       "      male         45  0.271084\n",
       "True  female       99  0.785714\n",
       "      male         64  0.155718"
      ]
     },
     "execution_count": 20,
     "metadata": {},
     "output_type": "execute_result"
    }
   ],
   "source": [
    "df.groupby(['alone', 'sex'])[['survived']].agg(['sum', 'mean'])\n",
    "\n",
    "# groupby 안에 입력하는 column의 순서에 따라 상위 분류와 하위 분류 다르게 할 수 있음."
   ]
  },
  {
   "cell_type": "code",
   "execution_count": 21,
   "id": "b1cd6f2a-e8e7-4c2f-afee-c1aac822e2d6",
   "metadata": {},
   "outputs": [
    {
     "data": {
      "text/html": [
       "<div>\n",
       "<style scoped>\n",
       "    .dataframe tbody tr th:only-of-type {\n",
       "        vertical-align: middle;\n",
       "    }\n",
       "\n",
       "    .dataframe tbody tr th {\n",
       "        vertical-align: top;\n",
       "    }\n",
       "\n",
       "    .dataframe thead tr th {\n",
       "        text-align: left;\n",
       "    }\n",
       "\n",
       "    .dataframe thead tr:last-of-type th {\n",
       "        text-align: right;\n",
       "    }\n",
       "</style>\n",
       "<table border=\"1\" class=\"dataframe\">\n",
       "  <thead>\n",
       "    <tr>\n",
       "      <th></th>\n",
       "      <th></th>\n",
       "      <th colspan=\"2\" halign=\"left\">survived</th>\n",
       "    </tr>\n",
       "    <tr>\n",
       "      <th></th>\n",
       "      <th></th>\n",
       "      <th>sum</th>\n",
       "      <th>mean</th>\n",
       "    </tr>\n",
       "    <tr>\n",
       "      <th>who</th>\n",
       "      <th>pclass</th>\n",
       "      <th></th>\n",
       "      <th></th>\n",
       "    </tr>\n",
       "  </thead>\n",
       "  <tbody>\n",
       "    <tr>\n",
       "      <th rowspan=\"3\" valign=\"top\">child</th>\n",
       "      <th>1</th>\n",
       "      <td>5</td>\n",
       "      <td>0.833333</td>\n",
       "    </tr>\n",
       "    <tr>\n",
       "      <th>2</th>\n",
       "      <td>19</td>\n",
       "      <td>1.000000</td>\n",
       "    </tr>\n",
       "    <tr>\n",
       "      <th>3</th>\n",
       "      <td>25</td>\n",
       "      <td>0.431034</td>\n",
       "    </tr>\n",
       "    <tr>\n",
       "      <th rowspan=\"3\" valign=\"top\">man</th>\n",
       "      <th>1</th>\n",
       "      <td>42</td>\n",
       "      <td>0.352941</td>\n",
       "    </tr>\n",
       "    <tr>\n",
       "      <th>2</th>\n",
       "      <td>8</td>\n",
       "      <td>0.080808</td>\n",
       "    </tr>\n",
       "    <tr>\n",
       "      <th>3</th>\n",
       "      <td>38</td>\n",
       "      <td>0.119122</td>\n",
       "    </tr>\n",
       "    <tr>\n",
       "      <th rowspan=\"3\" valign=\"top\">woman</th>\n",
       "      <th>1</th>\n",
       "      <td>89</td>\n",
       "      <td>0.978022</td>\n",
       "    </tr>\n",
       "    <tr>\n",
       "      <th>2</th>\n",
       "      <td>60</td>\n",
       "      <td>0.909091</td>\n",
       "    </tr>\n",
       "    <tr>\n",
       "      <th>3</th>\n",
       "      <td>56</td>\n",
       "      <td>0.491228</td>\n",
       "    </tr>\n",
       "  </tbody>\n",
       "</table>\n",
       "</div>"
      ],
      "text/plain": [
       "             survived          \n",
       "                  sum      mean\n",
       "who   pclass                   \n",
       "child 1             5  0.833333\n",
       "      2            19  1.000000\n",
       "      3            25  0.431034\n",
       "man   1            42  0.352941\n",
       "      2             8  0.080808\n",
       "      3            38  0.119122\n",
       "woman 1            89  0.978022\n",
       "      2            60  0.909091\n",
       "      3            56  0.491228"
      ]
     },
     "execution_count": 21,
     "metadata": {},
     "output_type": "execute_result"
    }
   ],
   "source": [
    "df.groupby(['who', 'pclass'])[['survived']].agg(['sum', 'mean'])\n",
    "\n",
    "# 다수의 column으로 그룹화할 때는 함수 안에 대괄호가 반드시 사용\n",
    "# 만약 'survived'가 대괄호로 한 번 감싸져 있더라도 결과는 DataFrame 형태로 출력되는데, 이는 pandas가 결과를 sum과 mean 등 다수의 열로 표시해야 하기 때문이다.\n",
    "# 단, 집계 함수에 하나의 변수만 들어가 있고, 그 안에 대괄호를 사용하지 않는다면 series로 출력된다."
   ]
  },
  {
   "cell_type": "code",
   "execution_count": 22,
   "id": "eb9ea20b-c9a7-458c-b558-c46a64a92845",
   "metadata": {},
   "outputs": [
    {
     "data": {
      "text/html": [
       "<div>\n",
       "<style scoped>\n",
       "    .dataframe tbody tr th:only-of-type {\n",
       "        vertical-align: middle;\n",
       "    }\n",
       "\n",
       "    .dataframe tbody tr th {\n",
       "        vertical-align: top;\n",
       "    }\n",
       "\n",
       "    .dataframe thead th {\n",
       "        text-align: right;\n",
       "    }\n",
       "</style>\n",
       "<table border=\"1\" class=\"dataframe\">\n",
       "  <thead>\n",
       "    <tr style=\"text-align: right;\">\n",
       "      <th></th>\n",
       "      <th>who</th>\n",
       "      <th>pclass</th>\n",
       "      <th>sum</th>\n",
       "      <th>mean</th>\n",
       "    </tr>\n",
       "  </thead>\n",
       "  <tbody>\n",
       "    <tr>\n",
       "      <th>0</th>\n",
       "      <td>child</td>\n",
       "      <td>2</td>\n",
       "      <td>19</td>\n",
       "      <td>1.000000</td>\n",
       "    </tr>\n",
       "    <tr>\n",
       "      <th>1</th>\n",
       "      <td>woman</td>\n",
       "      <td>1</td>\n",
       "      <td>89</td>\n",
       "      <td>0.978022</td>\n",
       "    </tr>\n",
       "    <tr>\n",
       "      <th>2</th>\n",
       "      <td>woman</td>\n",
       "      <td>2</td>\n",
       "      <td>60</td>\n",
       "      <td>0.909091</td>\n",
       "    </tr>\n",
       "    <tr>\n",
       "      <th>3</th>\n",
       "      <td>child</td>\n",
       "      <td>1</td>\n",
       "      <td>5</td>\n",
       "      <td>0.833333</td>\n",
       "    </tr>\n",
       "    <tr>\n",
       "      <th>4</th>\n",
       "      <td>woman</td>\n",
       "      <td>3</td>\n",
       "      <td>56</td>\n",
       "      <td>0.491228</td>\n",
       "    </tr>\n",
       "    <tr>\n",
       "      <th>5</th>\n",
       "      <td>child</td>\n",
       "      <td>3</td>\n",
       "      <td>25</td>\n",
       "      <td>0.431034</td>\n",
       "    </tr>\n",
       "    <tr>\n",
       "      <th>6</th>\n",
       "      <td>man</td>\n",
       "      <td>1</td>\n",
       "      <td>42</td>\n",
       "      <td>0.352941</td>\n",
       "    </tr>\n",
       "    <tr>\n",
       "      <th>7</th>\n",
       "      <td>man</td>\n",
       "      <td>3</td>\n",
       "      <td>38</td>\n",
       "      <td>0.119122</td>\n",
       "    </tr>\n",
       "    <tr>\n",
       "      <th>8</th>\n",
       "      <td>man</td>\n",
       "      <td>2</td>\n",
       "      <td>8</td>\n",
       "      <td>0.080808</td>\n",
       "    </tr>\n",
       "  </tbody>\n",
       "</table>\n",
       "</div>"
      ],
      "text/plain": [
       "     who  pclass  sum      mean\n",
       "0  child       2   19  1.000000\n",
       "1  woman       1   89  0.978022\n",
       "2  woman       2   60  0.909091\n",
       "3  child       1    5  0.833333\n",
       "4  woman       3   56  0.491228\n",
       "5  child       3   25  0.431034\n",
       "6    man       1   42  0.352941\n",
       "7    man       3   38  0.119122\n",
       "8    man       2    8  0.080808"
      ]
     },
     "execution_count": 22,
     "metadata": {},
     "output_type": "execute_result"
    }
   ],
   "source": [
    "# 인덱스 초기화\n",
    "\n",
    "result = df.groupby(['who', 'pclass'])['survived'].agg(['sum', 'mean']).reset_index()\n",
    "result.sort_values('mean', ascending=False, ignore_index=True)"
   ]
  },
  {
   "cell_type": "code",
   "execution_count": 27,
   "id": "6c71fb9a-b02a-4e43-ab16-6b059f37101f",
   "metadata": {},
   "outputs": [
    {
     "data": {
      "text/plain": [
       "min     0.42\n",
       "max    15.00\n",
       "Name: age, dtype: float64"
      ]
     },
     "execution_count": 27,
     "metadata": {},
     "output_type": "execute_result"
    }
   ],
   "source": [
    "df.loc[df['who'] == 'child', 'age'].agg(['min', 'max'])"
   ]
  },
  {
   "cell_type": "markdown",
   "id": "f26e5e6a-da65-4d8c-9934-c6555b98f5a1",
   "metadata": {},
   "source": [
    "### 위 코드 세부 설명\n",
    "\n",
    "1. df['who'] == 'child': 'who' 열의 값이 'child'인 행을 찾는다. 이는 True/False 값들로 구성된 series를 생성한다.\n",
    "2. df.loc[df['who'] == 'child', 'age']: 위의 시리즈를 사용하여 'child'인 행들에서 'age' 열만 선택한다. 이는 아이들의 나이 데이터만 포함하는 Series를 반환한다.\n",
    "3. .agg(['min', 'max']): 선택된 아이들의 나이 데이터에 대해 최소값('min')과 최대값('max')을 계산한다."
   ]
  },
  {
   "cell_type": "markdown",
   "id": "360a596f-fdd6-4dfd-9b50-2405350f8abf",
   "metadata": {},
   "source": [
    "### loc와 iloc 차이\n",
    "loc와 iloc 모두 판다스에서 데이터를 선택하는 메소드지만 차이점이 있음\n",
    "\n",
    "***loc(Label-based)***\n",
    "- 사용 시기: 이름(라벨)으로 데이터에 접근하고자 할 때 사용\n",
    "- 인덱싱 방식: 인덱스의 이름(라벨)을 기준으로 함.\n",
    "- 문법: df.loc[행_라벨, 열_라벨]\n",
    "- 특징\n",
    "    - 지정한 경계를 포함\n",
    "    - 불리언 마스크, 라벨 리스트, 단일 라벨 등 다양한 형태로 인덱싱 가능\n",
    "\n",
    "***iloc(Integer-based)***\n",
    "- 사용 시기: 위치(정수 인덱스)로 데이터에 접근하고자 할 때 사용\n",
    "- 인덱싱 방식: 0부터 시작하는 정수 위치를 기준으로 함.\n",
    "- 문법: df.iloc[행_위치, 열_위치]\n",
    "- 특징\n",
    "    - 파이썬의 일반적인 슬라이싱 규칙을 따름(끝 인덱스는 제외).\n",
    "    - 오직 정수 위치 인덱스만 사용 가능"
   ]
  },
  {
   "cell_type": "markdown",
   "id": "f27bcd62-1d4e-41b3-b206-92c6e0607cd9",
   "metadata": {},
   "source": [
    "### `df.loc[[df['who'] == 'child', 'age']].agg(['min', 'max'])`라고 작성하면 오류가 발생하는 이유\n",
    "\n",
    ".loc는 [행 선택자, 열 선택자] 형태로 사용되어야 함. 두 선택자를 하나의 리스트로 묶어 전달하면 오류 발생(unhashable 타입 에러)\n",
    "= 두 개의 서로 다른 타입을 포함한 리스트는 .loc의 인덱서로 사용할 수 없음."
   ]
  },
  {
   "cell_type": "markdown",
   "id": "0af74cb0-5091-41c8-937c-c5c2d0f9cee1",
   "metadata": {},
   "source": [
    "### unhashable이란?\n",
    "\n",
    "***pass***"
   ]
  },
  {
   "cell_type": "code",
   "execution_count": 29,
   "id": "31cea0a3-3af1-45fb-899a-ed4bd2e3eaf7",
   "metadata": {},
   "outputs": [
    {
     "data": {
      "text/html": [
       "<div>\n",
       "<style scoped>\n",
       "    .dataframe tbody tr th:only-of-type {\n",
       "        vertical-align: middle;\n",
       "    }\n",
       "\n",
       "    .dataframe tbody tr th {\n",
       "        vertical-align: top;\n",
       "    }\n",
       "\n",
       "    .dataframe thead th {\n",
       "        text-align: right;\n",
       "    }\n",
       "</style>\n",
       "<table border=\"1\" class=\"dataframe\">\n",
       "  <thead>\n",
       "    <tr style=\"text-align: right;\">\n",
       "      <th></th>\n",
       "      <th></th>\n",
       "      <th>fare</th>\n",
       "    </tr>\n",
       "    <tr>\n",
       "      <th>pclass</th>\n",
       "      <th>who</th>\n",
       "      <th></th>\n",
       "    </tr>\n",
       "  </thead>\n",
       "  <tbody>\n",
       "    <tr>\n",
       "      <th rowspan=\"3\" valign=\"top\">1</th>\n",
       "      <th>child</th>\n",
       "      <td>139.382633</td>\n",
       "    </tr>\n",
       "    <tr>\n",
       "      <th>man</th>\n",
       "      <td>65.951086</td>\n",
       "    </tr>\n",
       "    <tr>\n",
       "      <th>woman</th>\n",
       "      <td>104.317995</td>\n",
       "    </tr>\n",
       "    <tr>\n",
       "      <th rowspan=\"3\" valign=\"top\">2</th>\n",
       "      <th>child</th>\n",
       "      <td>28.323905</td>\n",
       "    </tr>\n",
       "    <tr>\n",
       "      <th>man</th>\n",
       "      <td>19.054124</td>\n",
       "    </tr>\n",
       "    <tr>\n",
       "      <th>woman</th>\n",
       "      <td>20.868624</td>\n",
       "    </tr>\n",
       "    <tr>\n",
       "      <th rowspan=\"3\" valign=\"top\">3</th>\n",
       "      <th>child</th>\n",
       "      <td>23.220190</td>\n",
       "    </tr>\n",
       "    <tr>\n",
       "      <th>man</th>\n",
       "      <td>11.340213</td>\n",
       "    </tr>\n",
       "    <tr>\n",
       "      <th>woman</th>\n",
       "      <td>15.354351</td>\n",
       "    </tr>\n",
       "  </tbody>\n",
       "</table>\n",
       "</div>"
      ],
      "text/plain": [
       "                    fare\n",
       "pclass who              \n",
       "1      child  139.382633\n",
       "       man     65.951086\n",
       "       woman  104.317995\n",
       "2      child   28.323905\n",
       "       man     19.054124\n",
       "       woman   20.868624\n",
       "3      child   23.220190\n",
       "       man     11.340213\n",
       "       woman   15.354351"
      ]
     },
     "execution_count": 29,
     "metadata": {},
     "output_type": "execute_result"
    }
   ],
   "source": [
    "df.groupby(['pclass', 'who'])[['fare']].mean()\n",
    "\n",
    "# ~별 수치를 비교할 때는 groupby 사용, 조건이 붙을 때는 loc 사용"
   ]
  },
  {
   "cell_type": "code",
   "execution_count": 34,
   "id": "c3992fd5-332b-4082-8209-90e4c9adc44a",
   "metadata": {},
   "outputs": [
    {
     "name": "stdout",
     "output_type": "stream",
     "text": [
      "77.9583\n"
     ]
    }
   ],
   "source": [
    "rich = df['fare'].quantile(0.9)\n",
    "print(rich)\n",
    "\n",
    "# 찾고자 하는 백분위수 값 q는 0과 1 사이의 숫자여야 함."
   ]
  },
  {
   "cell_type": "code",
   "execution_count": 33,
   "id": "1e8068b5-134d-40aa-b5b9-05dc0b2c656b",
   "metadata": {},
   "outputs": [
    {
     "data": {
      "text/plain": [
       "count    90.000000\n",
       "mean      0.766667\n",
       "Name: survived, dtype: float64"
      ]
     },
     "execution_count": 33,
     "metadata": {},
     "output_type": "execute_result"
    }
   ],
   "source": [
    "df.loc[df['fare'] >= rich, 'survived'].agg(['count', 'mean'])"
   ]
  },
  {
   "cell_type": "code",
   "execution_count": 50,
   "id": "a87c6b3c-179f-4a94-978f-a4797bd251a1",
   "metadata": {},
   "outputs": [
    {
     "data": {
      "text/plain": [
       "survived\n",
       "0    30.626179\n",
       "1    28.343690\n",
       "Name: age, dtype: float64"
      ]
     },
     "execution_count": 50,
     "metadata": {},
     "output_type": "execute_result"
    }
   ],
   "source": [
    "df.groupby(['survived'])['age'].mean()"
   ]
  },
  {
   "cell_type": "code",
   "execution_count": 51,
   "id": "410cf329-7f79-452f-a65b-c408fedea313",
   "metadata": {},
   "outputs": [
    {
     "name": "stdout",
     "output_type": "stream",
     "text": [
      "0.29941860465116277\n"
     ]
    }
   ],
   "source": [
    "c1 = df['deck'].isnull()\n",
    "print(df.loc[c1, 'survived']. mean())"
   ]
  },
  {
   "cell_type": "code",
   "execution_count": 52,
   "id": "489569f8-04ba-4275-bf10-d61a3ec0451e",
   "metadata": {},
   "outputs": [
    {
     "name": "stdout",
     "output_type": "stream",
     "text": [
      "0.6699507389162561\n"
     ]
    }
   ],
   "source": [
    "c1 = df['deck'].notnull()\n",
    "print(df.loc[c1, 'survived'].mean())"
   ]
  },
  {
   "cell_type": "code",
   "execution_count": 56,
   "id": "450c4384-61b2-496e-a427-c1768f084506",
   "metadata": {},
   "outputs": [
    {
     "data": {
      "text/plain": [
       "survived         0\n",
       "pclass           0\n",
       "sex              0\n",
       "age            177\n",
       "sibsp            0\n",
       "parch            0\n",
       "fare             0\n",
       "embarked         2\n",
       "class            0\n",
       "who              0\n",
       "adult_male       0\n",
       "deck           688\n",
       "embark_town      2\n",
       "alive            0\n",
       "alone            0\n",
       "dtype: int64"
      ]
     },
     "execution_count": 56,
     "metadata": {},
     "output_type": "execute_result"
    }
   ],
   "source": [
    "df.isnull().sum()"
   ]
  },
  {
   "cell_type": "code",
   "execution_count": 63,
   "id": "6a85dd8e-f9f4-40e5-871d-056411f453df",
   "metadata": {},
   "outputs": [],
   "source": [
    "df['embarked'].value_counts()\n",
    "m = df['embarked'].mode()[0]\n",
    "df['embarked'] = df['embarked'].fillna(m)"
   ]
  },
  {
   "cell_type": "markdown",
   "id": "1e10ee58-e77a-4790-a73c-2c1e0e71c6ea",
   "metadata": {},
   "source": [
    "### 위 코드 설명\n",
    "\n",
    "1. `df['embarked'].value_counts()`\n",
    "   - `embarked` 열의 값들이 각각 몇 번 등장하는지 세어서 보여준다.\n",
    "   - 예를 들어, S가 644번, C가 168번, Q가 77번 등의 형태로 결과가 나올 수 있음.\n",
    "   - 이 명령은 결과를 변수에 저장하지 않고 단순히 출력만 합니다.\n",
    "\n",
    "2. `m = df['embarked'].mode()[0]`\n",
    "   - `mode()` 함수를 사용해 `embarked` 열에서 가장 많이 등장하는 값(최빈값)을 찾는다.\n",
    "   - `mode()`는 여러 개의 최빈값이 있을 경우 모두 반환하므로 `[0]`을 사용해 첫 번째 최빈값만 선택한다.\n",
    "   - 이 값을 변수 `m`에 저장한다.\n",
    "\n",
    "3. `df['embarked'] = df['embarked'].fillna(m)`\n",
    "   - `fillna(m)` 함수를 사용해 `embarked` 열의 모든 결측값(NaN)을 앞서 구한 최빈값 `m`으로 대체한다\n",
    "   - 결과를 다시 `df['embarked']`에 할당하여 원본 데이터프레임을 업데이트한다."
   ]
  },
  {
   "cell_type": "code",
   "execution_count": 62,
   "id": "3eeae7e1-7840-4081-9b63-7fd1d832f925",
   "metadata": {},
   "outputs": [],
   "source": [
    "assert 0 == df['embarked'].isnull().sum()"
   ]
  },
  {
   "cell_type": "code",
   "execution_count": 65,
   "id": "099432fd-af00-442d-8613-96d120b854a8",
   "metadata": {},
   "outputs": [],
   "source": [
    "cond1 = df['sex'] == 'male'\n",
    "male_mean = df.loc[cond1, 'age'].mean()\n",
    "df.loc[cond1, 'age'] = df.loc[cond1, 'age'].fillna(male_mean)\n",
    "\n",
    "cond2 = df['sex'] == 'female'\n",
    "female_mean = df.loc[cond2, 'age'].mean()\n",
    "df.loc[cond2, 'age'] = df.loc[cond2, 'age'].fillna(female_mean)"
   ]
  },
  {
   "cell_type": "code",
   "execution_count": 66,
   "id": "cfb965ca-1aa2-42f9-9a15-bbdfd24ed7f3",
   "metadata": {},
   "outputs": [
    {
     "data": {
      "text/plain": [
       "sex\n",
       "female    27.915709\n",
       "male      30.726645\n",
       "Name: age, dtype: float64"
      ]
     },
     "execution_count": 66,
     "metadata": {},
     "output_type": "execute_result"
    }
   ],
   "source": [
    "df.groupby('sex', group_keys=False)['age'].mean()"
   ]
  },
  {
   "cell_type": "code",
   "execution_count": null,
   "id": "e76b5763-7102-42ee-8497-e637c120f275",
   "metadata": {},
   "outputs": [],
   "source": []
  }
 ],
 "metadata": {
  "kernelspec": {
   "display_name": "Python 3 (ipykernel)",
   "language": "python",
   "name": "python3"
  },
  "language_info": {
   "codemirror_mode": {
    "name": "ipython",
    "version": 3
   },
   "file_extension": ".py",
   "mimetype": "text/x-python",
   "name": "python",
   "nbconvert_exporter": "python",
   "pygments_lexer": "ipython3",
   "version": "3.13.2"
  }
 },
 "nbformat": 4,
 "nbformat_minor": 5
}
