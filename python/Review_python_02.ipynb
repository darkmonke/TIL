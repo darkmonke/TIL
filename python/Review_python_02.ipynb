{
 "cells": [
  {
   "cell_type": "code",
   "execution_count": 1,
   "id": "311ff18b-88e7-4847-a5d8-12beab6c608c",
   "metadata": {},
   "outputs": [
    {
     "name": "stdout",
     "output_type": "stream",
     "text": [
      "True\n",
      "False\n",
      "False\n",
      "False\n"
     ]
    }
   ],
   "source": [
    "print(True and True)\n",
    "print(True and False)\n",
    "print(False and True)\n",
    "print(False and False)"
   ]
  },
  {
   "cell_type": "code",
   "execution_count": 2,
   "id": "ad61f278-0226-42ea-b863-9066dfd83211",
   "metadata": {},
   "outputs": [
    {
     "name": "stdout",
     "output_type": "stream",
     "text": [
      "True\n",
      "True\n",
      "True\n",
      "False\n"
     ]
    }
   ],
   "source": [
    "print(True or True)\n",
    "print(True or False)\n",
    "print(False or True)\n",
    "print(False or False)"
   ]
  },
  {
   "cell_type": "markdown",
   "id": "7cfdbb18-0fb6-477f-bb78-63d84cbc057c",
   "metadata": {},
   "source": [
    "# 1. 논리연산자\n",
    "## and, or, not\n",
    "- and: 두 값이 모두 True일 때 True를 반환\n",
    "- or: 두 값 중 하나라도 True일 때 True를 반환\n",
    "- not: not은 논리값을 뒤집음. 따라서 not True는 False가 되고, not false는 True가 됨.\n",
    "\n",
    "* and, or, not 논리 연산자가 식 하나에 들어있으면 not, and, or 순으로 판단함.\n",
    "\n",
    "  ex) ```not True and False or not False``` ==> True 반환\n",
    "  \n",
    "  괄호로 표현하면:\n",
    "  \n",
    "   ```((not True) and False) or (not False)```"
   ]
  },
  {
   "cell_type": "code",
   "execution_count": 6,
   "id": "3f5234b0-0991-4456-8fa1-dcf22fa63953",
   "metadata": {},
   "outputs": [
    {
     "name": "stdout",
     "output_type": "stream",
     "text": [
      "5\n",
      "0\n",
      "0\n",
      "0\n"
     ]
    }
   ],
   "source": [
    "print(3 and 5)\n",
    "print(3 and 0)\n",
    "print(0 and 5)\n",
    "print(0 and 0)\n",
    "# print(x, y)에서 x가 거짓으로 평가되면 x를 반환하고, x가 참으로 평가되면 y를 반환한다."
   ]
  },
  {
   "cell_type": "markdown",
   "id": "50b7ef18-978d-492b-8164-9f7b18b36995",
   "metadata": {},
   "source": [
    "Python에서 값이 참이거나 거짓이라는 것은 불리언 컨텍스트(조건문 등)에서 해당 값이 어떻게 평가되는지를 의미한다.\n",
    "\n",
    "Python에서:\n",
    "거짓(Falsy)으로 평가되는 값:\n",
    "\n",
    "- 숫자 0 (정수 0, 실수 0.0)\n",
    "- 빈 시퀀스 (빈 문자열 \"\", 빈 리스트 [], 빈 튜플 (), 빈 딕셔너리 {}, 빈 세트 set())\n",
    "- None\n",
    "- False\n",
    "\n",
    "참(Truthy)으로 평가되는 값:\n",
    "\n",
    "- 0이 아닌 모든 숫자 (1, -1, 42, 3.14 등)\n",
    "- 비어있지 않은 모든 시퀀스 (문자열, 리스트, 튜플, 딕셔너리 등)\n",
    "- 대부분의 객체\n",
    "- True"
   ]
  },
  {
   "cell_type": "markdown",
   "id": "b3ebb2ba-d444-44dc-9fe4-0b631d1faeb8",
   "metadata": {},
   "source": [
    "단락 평가(short-circuit evaluation)는 논리 연산자(`and`와 `or`)를 처리할 때 사용되는 최적화 기법. 전체 표현식의 결과가 첫 번째 피연산자의 값만으로도 결정될 수 있을 때 두 번째 피연산자를 평가하지 않고 연산을 중단하는 방식\n",
    "\n",
    "Python에서의 단락 평가:\n",
    "\n",
    "1. **AND 연산자(`and`)의 경우:**\n",
    "   - 첫 번째 피연산자가 거짓(falsy)이면, 전체 표현식은 무조건 거짓이 되므로 두 번째 피연산자를 평가하지 않고 첫 번째 피연산자를 반환\n",
    "   - 예: `0 and 함수호출()` → 함수호출()은 실행되지 않고 0이 반환\n",
    "\n",
    "2. **OR 연산자(`or`)의 경우:**\n",
    "   - 첫 번째 피연산자가 참(truthy)이면, 전체 표현식은 무조건 참이 되므로 두 번째 피연산자를 평가하지 않고 첫 번째 피연산자를 반환\n",
    "   - 예: `1 or 함수호출()` → 함수호출()은 실행되지 않고 1이 반환\n",
    "\n",
    "실제 예시:\n",
    "```python\n",
    "# 리스트가 비어있지 않은 경우에만 첫 번째 요소에 접근\n",
    "result = my_list and my_list[0]\n",
    "\n",
    "# 사용자 입력이 있을 때만 처리\n",
    "user_input = input(\"입력: \") or \"기본값\"\n",
    "```"
   ]
  },
  {
   "cell_type": "markdown",
   "id": "79777146-e55c-4a42-8ed6-9e8e701e9b53",
   "metadata": {},
   "source": [
    "## 연산자 우선순위\n",
    "0. ()를 통해서 그룹\n",
    "1. **\n",
    "2. 산술연산자(*, /)\n",
    "3. 산술연산자(+, -)\n",
    "4. 비교연산자, in, is\n",
    "5. not\n",
    "6. and\n",
    "7. or"
   ]
  },
  {
   "cell_type": "markdown",
   "id": "3cef81f8-2d3b-4829-82f3-0e1ecbd58609",
   "metadata": {},
   "source": [
    "# 형변환\n",
    "## 1. 암시적 형변환\n",
    "파이썬이 자동으로 한 데이터 타입을 다른 데이터 타입으로 변환하는 것\n",
    "```\n",
    "a = 5       # 정수형\n",
    "b = 2.0     # 실수형\n",
    "c = a + b   # 결과는 7.0 (실수형)\n",
    "```\n",
    "```\n",
    "a = True    # 불리언\n",
    "b = 5       # 정수형\n",
    "c = a + b   # 결과는 6 (True는 1로 변환됨)\n",
    "```\n",
    "\n",
    "## 2. 명시적 형변환\n",
    "프로그래머가 의도적으로 한 데이터 타입을 다른 데이터 타입으로 변환하는 것\n",
    "```\n",
    "# 정수형으로 변환\n",
    "int(3.14)     # 결과: 3\n",
    "int(\"10\")     # 결과: 10\n",
    "int(True)     # 결과: 1\n",
    "\n",
    "# 실수형으로 변환\n",
    "float(5)      # 결과: 5.0\n",
    "float(\"3.14\") # 결과: 3.14\n",
    "\n",
    "# 문자열로 변환\n",
    "str(42)       # 결과: \"42\"\n",
    "str(3.14)     # 결과: \"3.14\"\n",
    "\n",
    "# 불리언으로 변환\n",
    "bool(0)       # 결과: False\n",
    "bool(1)       # 결과: True\n",
    "bool(\"\")      # 결과: False\n",
    "bool(\"abc\")   # 결과: True\n",
    "```"
   ]
  },
  {
   "cell_type": "code",
   "execution_count": 12,
   "id": "85e6bd0b-540a-4295-aab9-3fd04d8f063f",
   "metadata": {},
   "outputs": [
    {
     "name": "stdout",
     "output_type": "stream",
     "text": [
      " \n"
     ]
    }
   ],
   "source": [
    "s = 'hi my name is chang'\n",
    "# s = ['h', 'i', ' ', 'm' ...]\n",
    "print(s[2])"
   ]
  },
  {
   "cell_type": "markdown",
   "id": "64f1bf68-99bb-4621-a123-e1bd02a13bf1",
   "metadata": {},
   "source": [
    "## for문과 while문의 차이"
   ]
  },
  {
   "cell_type": "markdown",
   "id": "35915287-7a5f-4c91-8f3a-8594d69ae29d",
   "metadata": {},
   "source": [
    "## break와 continue\n",
    "1. break: 반복문을 종료시키는 키워드\n",
    "   ```\n",
    "   for i in range(100):\n",
    "    print('여기는 for문', i)\n",
    "    if i > 5:\n",
    "        print('여기는 브레이크')\n",
    "        break\n",
    "   ```\n",
    "2. continue: continue 이후의 코드를 실행하지 않고 다음 반복을 진행\n",
    "   ```\n",
    "   for i in range(20):\n",
    "    if i % 2 == 1:\n",
    "        continue\n",
    "    print(i)\n",
    "   ```\n",
    "3. else 문은 끝까지 반복된 경우 실행. break를 만나지 않은 경우 실행\n",
    "   ```\n",
    "   for i in range(10):\n",
    "    if i > 10:\n",
    "        break\n",
    "    print(i)\n",
    "else:\n",
    "    print('모두완료!!!')\n",
    "   ```"
   ]
  },
  {
   "cell_type": "code",
   "execution_count": null,
   "id": "564dae8f-7035-4ace-bc5d-931cf23f2e4b",
   "metadata": {},
   "outputs": [],
   "source": []
  },
  {
   "cell_type": "code",
   "execution_count": null,
   "id": "5241a635-943b-4879-9da8-b39be7a96d72",
   "metadata": {},
   "outputs": [],
   "source": []
  }
 ],
 "metadata": {
  "kernelspec": {
   "display_name": "Python 3 (ipykernel)",
   "language": "python",
   "name": "python3"
  },
  "language_info": {
   "codemirror_mode": {
    "name": "ipython",
    "version": 3
   },
   "file_extension": ".py",
   "mimetype": "text/x-python",
   "name": "python",
   "nbconvert_exporter": "python",
   "pygments_lexer": "ipython3",
   "version": "3.13.2"
  }
 },
 "nbformat": 4,
 "nbformat_minor": 5
}
