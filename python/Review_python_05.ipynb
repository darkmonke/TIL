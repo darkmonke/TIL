{
 "cells": [
  {
   "cell_type": "markdown",
   "id": "8247a9f6-12bd-4c27-884e-3e3e34671799",
   "metadata": {},
   "source": [
    "# 모듈과 패키지\n",
    "\n",
    "## 1. 모듈(Module)\n",
    "- 정의: 파이썬 코드를 담고 있는 단일 파일. 파이썬에서 .py 확장자를 가진 모든 파일은 모듈로 간주됨.\n",
    "- 특징\n",
    "    - 관련 함수, 클래스, 변수들을 하나의 파일에 구성\n",
    "    - 코드 재사용 용이\n",
    "    - 네임스페이스 제공으로 이름 충돌 방지(서로 다른 모듈에서 같은 이름의 함수를 정의할 수 있음. 단, 이름은 같지만 서로 다른 함수임.)\n",
    "- 모듈 검색 경로: '파이썬은 현재 디렉토리 => PYTHONPATH 환경 변수에 지정된 디렉토리 => 파이썬 설치 디렉토리와 표준 라이브러리 경로' 순으로 모듈을 검색한다.\n",
    "\n",
    "## 2. 패키지(Package)\n",
    "- 정의: 패키지는 여러 모듈을 포함하는 디렉토리로, 관련 모듈들을 계층적으로 구조화\n",
    "- 특징\n",
    "- 모듈들의 네임스페이스를 계층적으로 구성\n",
    "- 대규모 프로젝트의 코드 구조화 유용\n",
    "- `__init__.py` 파일로 패키지를 초기화해야 함(패키지 안에 이 파일이 존재해야 패키지로 인식).\n",
    "\n",
    "** 네임스페이스란?\n",
    "- 정의: 파이썬에서 네임스페이스를 제공한다는 것은 코드 내에서 이름(변수, 함수, 클래스 등)의 범위와 가시성을 관리하는 매커니즘을 의미\n",
    "- 네임스페이스 종류\n",
    "    - 내장 네임스페이스: print(), len()과 같은 내장 함수들\n",
    "    - 전역 네임스페이스: 모듈 수준에서 정의된 이름들\n",
    "    - 지역 네임스페이스: 함수나 메서드 내에서 정의된 이름들\n",
    "    - 클래스 네임스페이스: 클래스 내에서 정의된 속성과 메서드들"
   ]
  },
  {
   "cell_type": "code",
   "execution_count": null,
   "id": "5ec6f4ab-3eb5-487e-a3bc-cb88b33ebcf9",
   "metadata": {},
   "outputs": [],
   "source": []
  }
 ],
 "metadata": {
  "kernelspec": {
   "display_name": "Python 3 (ipykernel)",
   "language": "python",
   "name": "python3"
  },
  "language_info": {
   "codemirror_mode": {
    "name": "ipython",
    "version": 3
   },
   "file_extension": ".py",
   "mimetype": "text/x-python",
   "name": "python",
   "nbconvert_exporter": "python",
   "pygments_lexer": "ipython3",
   "version": "3.13.2"
  }
 },
 "nbformat": 4,
 "nbformat_minor": 5
}
