{
 "cells": [
  {
   "cell_type": "markdown",
   "id": "abff1d44-7ff9-499b-8759-a987fe5bc7e5",
   "metadata": {},
   "source": [
    "# 객체 지향 프로그래밍(OOP)\n",
    "객체 지향 프로그래밍은 프로그램을 '객체(objects)'라는 독립적인 단위로 구성하는 방식. 각 객체는 데이터(속성)와 기능(메소드)을 함께 가지고 있음.\n",
    "\n",
    "- 클래스(class) : 같은 종류의 집단에 속하는 속성과 행동을 정의한 것\n",
    "- 속성(attribute) : 클래스/인스턴스가 가지고 있는 데이터/값\n",
    "- 행동(method) : 클래스/인스턴스가 가지고 있는 함수/기능\n",
    "- 인스턴스(instance) : 클래스를 실제로 메모리상에 할당한 것\n",
    "\n",
    "** 프로그래밍 관점에서 객체는 클래스의 인스턴스. 클래스는 객체의 설계도 또는 템플릿이고, 객체는 그 설계도를 만들어진 실체"
   ]
  },
  {
   "cell_type": "markdown",
   "id": "ab7971ed-4f9f-4438-a554-78fa08d1aa1c",
   "metadata": {},
   "source": [
    "## 파이썬의 클래스 내 메소드에 self 인자가 들어가야 하는 이유\n",
    "\n",
    "self는 인스턴스 자신을 참조하는 변수로 객체의 속성과 메서드에 접근할 수 있도록 함. 파이썬에서는 이 인자를 인스턴스 메소드의 첫 번째 매개변수로 선언해야 함.\n",
    "self는 클래스 정의에 들어가지 않음.\n",
    "\n",
    "- 인스턴스 구분: 같은 클래스의 여러 인스턴스가 있을 때, self는 현재 작업 중인 인스턴스를 식별\n",
    "- self는 self.make와 같이 해당 객체의 속성에 접근할 수 있게 함.\n",
    "- 메소드를 호출할 때 파이썬은 자동으로 인스턴스를 첫 번째 인자로 전달\n",
    "\n",
    "```\n",
    "class Car:\n",
    "    def __init__(self, make, model, color):\n",
    "        # 상태(속성)\n",
    "        self.make = make\n",
    "        self.model = model\n",
    "        self.color = color\n",
    "        self.speed = 0\n",
    "        \n",
    "    # 동작(메서드)\n",
    "    def accelerate(self, amount):\n",
    "        self.speed += amount\n",
    "        \n",
    "    def brake(self, amount):\n",
    "        self.speed = max(0, self.speed - amount)\n",
    "        \n",
    "    def get_info(self):\n",
    "        return f\"{self.color} {self.make} {self.model}, speed: {self.speed}km/h\"\n",
    "\n",
    "# 객체 생성\n",
    "my_car = Car(\"Toyota\", \"Corolla\", \"Red\")\n",
    "```"
   ]
  },
  {
   "cell_type": "markdown",
   "id": "34e8d8b2-cfdf-4c33-8729-37f6c452f98f",
   "metadata": {},
   "source": [
    "## 클래스 정의에서 괄호가 들어가는 이유\n",
    "\n",
    "파이썬에서 클래스의 이름 뒤에 괄호를 사용하는 것은 상속을 의미. 빈 괄호는 아무것도 상속받지 않는다는 것을 나타내며, 이 경우에는 괄호 없이 작성해도 동일한 의미\n",
    "ex) ```class Phone():``` = ```class Phone```"
   ]
  },
  {
   "cell_type": "code",
   "execution_count": 29,
   "id": "72bedd17-c8ea-484a-988b-264b42489758",
   "metadata": {},
   "outputs": [],
   "source": [
    "class Phone():\n",
    "    power = False\n",
    "    number = '010-0000-0000'\n",
    "    book = {}\n",
    "    model = ''\n",
    "\n",
    "    def on(self):\n",
    "        if self.power == False:\n",
    "            self.power = True\n",
    "\n",
    "    def off(self):\n",
    "        if self.power == True:\n",
    "            self.power = False\n",
    "\n",
    "    def call(self, target):\n",
    "        if self.power == True:\n",
    "            print(f'{self.number}가 {target.number}한테 전화 거는 중...')\n",
    "        else:\n",
    "            print('핸드폰이 꺼져 있습니다.')"
   ]
  },
  {
   "cell_type": "code",
   "execution_count": 21,
   "id": "f9a1792e-30a3-4937-885f-290cd5076ecf",
   "metadata": {},
   "outputs": [],
   "source": [
    "my_phone = Phone()\n",
    "your_phone = Phone()"
   ]
  },
  {
   "cell_type": "code",
   "execution_count": 23,
   "id": "6fe6ad24-9446-4761-be1d-360e9e71973e",
   "metadata": {},
   "outputs": [
    {
     "name": "stdout",
     "output_type": "stream",
     "text": [
      "010-1234-5678\n"
     ]
    }
   ],
   "source": [
    "my_phone.number = '010-1234-5678'\n",
    "print(my_phone.number)"
   ]
  },
  {
   "cell_type": "code",
   "execution_count": 24,
   "id": "044a362c-4b51-4ed5-afeb-a7fefa7a2747",
   "metadata": {},
   "outputs": [
    {
     "data": {
      "text/plain": [
       "False"
      ]
     },
     "execution_count": 24,
     "metadata": {},
     "output_type": "execute_result"
    }
   ],
   "source": [
    "my_phone.power"
   ]
  },
  {
   "cell_type": "markdown",
   "id": "cf74a90e-9aa9-43ca-8ea5-3bf75255319d",
   "metadata": {},
   "source": [
    "## ```my_phone.on(my_phone.power)```가 실행되지 않는 이유\n",
    "\n",
    "on 메서드는 매개변수로 self 하나만 받도록 정의되어 있음. self는 인스턴스 자신을 가리키며, 메소드 호출 시 파이썬이 자동으로 첫 번째 인자로 전달\n",
    "만약 위와 같이 호출하면:\n",
    "- self 매개변수에는 이미 my_phone이 자동으로 전달되고\n",
    "- 추가로 my_phone.power값(True 또는 False)이 두 번째 매개변수로 전달\n",
    "- 하지만 on 메소드는 self 외에 다른 매개변수를 받도록 정의되어 있지 않기 대문에 오류 발생"
   ]
  },
  {
   "cell_type": "code",
   "execution_count": 32,
   "id": "8a29a6d7-2140-4ed4-96a8-a63aecfe8f2a",
   "metadata": {},
   "outputs": [
    {
     "data": {
      "text/plain": [
       "True"
      ]
     },
     "execution_count": 32,
     "metadata": {},
     "output_type": "execute_result"
    }
   ],
   "source": [
    "my_phone.on()\n",
    "my_phone.power"
   ]
  },
  {
   "cell_type": "code",
   "execution_count": 33,
   "id": "6b412c1a-7cd2-44d7-9136-c5b60c623b61",
   "metadata": {},
   "outputs": [
    {
     "data": {
      "text/plain": [
       "False"
      ]
     },
     "execution_count": 33,
     "metadata": {},
     "output_type": "execute_result"
    }
   ],
   "source": [
    "your_phone.power"
   ]
  },
  {
   "cell_type": "code",
   "execution_count": 34,
   "id": "580cb290-9a70-4587-b70e-0b1a038fd73b",
   "metadata": {},
   "outputs": [
    {
     "name": "stdout",
     "output_type": "stream",
     "text": [
      "010-1234-5678가 010-0000-0000한테 전화 거는 중...\n"
     ]
    }
   ],
   "source": [
    "my_phone.call(your_phone)"
   ]
  },
  {
   "cell_type": "code",
   "execution_count": 35,
   "id": "04c5dea3-eb6b-44b7-a81f-3cbbf71b1b8a",
   "metadata": {},
   "outputs": [
    {
     "name": "stdout",
     "output_type": "stream",
     "text": [
      "핸드폰이 꺼져 있습니다.\n"
     ]
    }
   ],
   "source": [
    "your_phone.call(my_phone)"
   ]
  },
  {
   "cell_type": "markdown",
   "id": "796283fe-57f7-4ca9-bbff-4b15b3807237",
   "metadata": {},
   "source": [
    "## 생성자와 소멸자\n",
    "1. 생성자\n",
    "   - 정의: 객체가 생성될 때 자동으로 호출되는 메소드\n",
    "   - 역할\n",
    "       - 객체의 초기 상태를 설정: 객체가 생성될 때 해당 객체가 가져야 할 기본적인 속성값 지정\n",
    "         ```\n",
    "         class Phone:\n",
    "            def __init__(self, model, number):\n",
    "                self.power = False  # 처음에는 전원이 꺼진 상태로 설정\n",
    "                self.battery = 100  # 배터리는 100%로 설정\n",
    "                self.model = model  # 모델명 설정\n",
    "                self.number = number  # 전화번호 설정\n",
    "         ```\n",
    "         여기서 전원 상태, 배터리 잔량, 모델명, 전화번호 등이 객체의 '상태'를 구성하며, 이들을 초기값으로 설정하는 과정\n",
    "       - 필요한 초기화 작업 수행: 변수 설정 뿐만 아니라 데이터베이스 연결 설정, 타임아웃 설정, 캐시 구성 등의 초기화 작업 수행(=자원 할당)\n",
    "       - 인스턴스 변수 초기화: 객체의 초기 상태를 설정할 때 일어나는 과정 중 하나(1번 코드 참고)\n",
    "\n",
    "2. 소멸자\n",
    "    - 정의: 객체가 소멸될 때(메모리에서 제거될 때) 자동으로 호출되는 메소드\n",
    "    - 역할\n",
    "        - 객체가 사용한 자원 해제\n",
    "        - 열린 파일이나 네트워크 연결 닫기\n",
    "        - 메모리 누수 방지\n",
    "        - 종료 전 필요한 작업 수행"
   ]
  },
  {
   "cell_type": "code",
   "execution_count": 43,
   "id": "797239b3-daad-4838-966b-e59e0eeb4f80",
   "metadata": {},
   "outputs": [],
   "source": [
    "class Person():\n",
    "    name = ''\n",
    "\n",
    "    def __init__(self, name):\n",
    "        self.name = name\n",
    "        print('생성됨')\n",
    "\n",
    "    def __del__(self):\n",
    "        print('소멸됨')"
   ]
  },
  {
   "cell_type": "code",
   "execution_count": 44,
   "id": "824c8ac0-b493-4eb8-8526-c53ebd96492d",
   "metadata": {},
   "outputs": [
    {
     "name": "stdout",
     "output_type": "stream",
     "text": [
      "생성됨\n",
      "소멸됨\n",
      "생성됨\n",
      "소멸됨\n"
     ]
    }
   ],
   "source": [
    "p1 = Person('kim')\n",
    "p2 = Person('park')"
   ]
  },
  {
   "cell_type": "markdown",
   "id": "268f7aa4-60b1-46b1-bb2a-ce001c7c3fdc",
   "metadata": {},
   "source": [
    "## 클래스 메소드 / 인스턴스 메소드 / 스태틱 메소드"
   ]
  },
  {
   "cell_type": "markdown",
   "id": "342d0440-0896-4e28-8abd-64c9032b4e42",
   "metadata": {},
   "source": [
    "1. 인스턴스 메소드\n",
    "- 정의: 클래스의 인스턴스(객체)에서 호출되는 메소드\n",
    "- 특징\n",
    "    - 첫 번째 매개변수는 항상 self로, 매소드를 호출한 인스턴스 자체를 가리킴.\n",
    "    - 인스턴스 속성에 접근하고 수정 가능\n",
    "    - 객체의 상태를 다루는 작업에 사용\n",
    "\n",
    "2. 클래스 메소드\n",
    "- 정의: 클래스 자체에서 호출되는 메소드\n",
    "- 특징\n",
    "    - 첫 번째 매개변수는 관례적으로 cls로, 클래스 자체를 가리킨다.\n",
    "    - 인스턴스 속성에 접근할 수 없지만, 클래스 속성에는 접근할 수 있음.\n",
    "    - 대체 생성자로 자주 사용됨.\n",
    "\n",
    "3. 스태틱 메소드\n",
    "- 정의: 클래스와 연관되어 있지만 인스턴스나 클래스 상태에 접근하지 않는 메소드\n",
    "- 특징\n",
    "    - 첫 번째 매개면수로 self나 cls를 받지 않음.\n",
    "    - 인스턴스나 클래스 속성에 접근하거나 수정하지 않음.\n",
    "\n",
    "4. 주요 차이점\n",
    "1) 매개변수 차이\n",
    "- 인스턴스 메소드: self\n",
    "- 클래스 메소드: cls\n",
    "- 스태틱 메소드: 특별한 매개변수 없음.\n",
    "\n",
    "2) 접근 가능한 데이터\n",
    "- 인스턴스 메소드: 인스턴스 변수와 클래스 변수 모두 접근 가능\n",
    "- 클래스 메소드: 클래스 변수만 접근 가능\n",
    "- 스태틱 메소드: 어떤 인스턴스/클래스 변수에도 직접 접근 불가능\n",
    "\n",
    "\n",
    "3) 용도\n",
    "- 인스턴스 메소드: 객체의 상태를 다루는 작업\n",
    "- 클래스 메소드: 클래스 전체에 관련된 작업, 대체 생성자\n",
    "- 스태틱 메소드: 클래스와 관련이 있지만 인스턴스/클래스 상태와 독립적인 유틸리티 함수"
   ]
  },
  {
   "cell_type": "code",
   "execution_count": 58,
   "id": "5ebeaf48-6861-45d3-aaf3-2613956e3042",
   "metadata": {},
   "outputs": [],
   "source": [
    "class MyClass():\n",
    "    def instance_method(self):\n",
    "        print(self)\n",
    "\n",
    "    @classmethod\n",
    "    def class_method(cls):\n",
    "        print(cls)\n",
    "\n",
    "    @staticmethod\n",
    "    def static_method():\n",
    "        print('static')"
   ]
  },
  {
   "cell_type": "code",
   "execution_count": 46,
   "id": "d21ed63e-72a7-4b75-a467-0fed1dfc4860",
   "metadata": {},
   "outputs": [
    {
     "name": "stdout",
     "output_type": "stream",
     "text": [
      "<__main__.MyClass object at 0x0000022746F96660>\n",
      "<__main__.MyClass object at 0x0000022746F96660>\n"
     ]
    }
   ],
   "source": [
    "mc = MyClass()\n",
    "mc.instance_method()\n",
    "print(mc)"
   ]
  },
  {
   "cell_type": "code",
   "execution_count": 47,
   "id": "eefbc8e5-1364-401b-8969-12997c4e1b35",
   "metadata": {},
   "outputs": [
    {
     "name": "stdout",
     "output_type": "stream",
     "text": [
      "<class '__main__.MyClass'>\n",
      "<class '__main__.MyClass'>\n"
     ]
    }
   ],
   "source": [
    "mc.class_method()\n",
    "print(MyClass)"
   ]
  },
  {
   "cell_type": "code",
   "execution_count": 48,
   "id": "4d18790a-8e49-4498-9125-8a391a48ba16",
   "metadata": {},
   "outputs": [
    {
     "name": "stdout",
     "output_type": "stream",
     "text": [
      "static\n"
     ]
    }
   ],
   "source": [
    "mc.static_method()"
   ]
  },
  {
   "cell_type": "code",
   "execution_count": 55,
   "id": "b8280629-4ec5-415d-a539-b58627f3952e",
   "metadata": {},
   "outputs": [],
   "source": [
    "class Puppy():\n",
    "    num_of_puppy = 0\n",
    "\n",
    "    def __init__(self, name):\n",
    "        self.name = name\n",
    "        Puppy.num_of_puppy += 1\n",
    "\n",
    "    @classmethod\n",
    "    def info(cls):\n",
    "        print(f'현재 강아지는 {cls.num_of_puppy}마리입니다.')\n",
    "\n",
    "    def bark(self):\n",
    "        print(f'멍멍! {self.name}입니다.')\n",
    "\n",
    "    @staticmethod\n",
    "    def bark2():\n",
    "        print('왈왈!')"
   ]
  },
  {
   "cell_type": "code",
   "execution_count": 56,
   "id": "699e638c-5487-42b4-9457-7c42e603b3e0",
   "metadata": {},
   "outputs": [
    {
     "name": "stdout",
     "output_type": "stream",
     "text": [
      "현재 강아지는 3마리입니다.\n"
     ]
    }
   ],
   "source": [
    "p1 = Puppy('초코')\n",
    "p2 = Puppy('구름')\n",
    "p3 = Puppy('인절미')\n",
    "\n",
    "Puppy.info()"
   ]
  },
  {
   "cell_type": "code",
   "execution_count": null,
   "id": "aadfff02-8575-41b4-aa9c-5fcce6c5770f",
   "metadata": {},
   "outputs": [],
   "source": []
  }
 ],
 "metadata": {
  "kernelspec": {
   "display_name": "Python 3 (ipykernel)",
   "language": "python",
   "name": "python3"
  },
  "language_info": {
   "codemirror_mode": {
    "name": "ipython",
    "version": 3
   },
   "file_extension": ".py",
   "mimetype": "text/x-python",
   "name": "python",
   "nbconvert_exporter": "python",
   "pygments_lexer": "ipython3",
   "version": "3.13.2"
  }
 },
 "nbformat": 4,
 "nbformat_minor": 5
}
